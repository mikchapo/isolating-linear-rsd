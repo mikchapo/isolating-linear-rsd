{
 "cells": [
  {
   "cell_type": "code",
   "execution_count": 9,
   "id": "b1a376dc",
   "metadata": {},
   "outputs": [
    {
     "name": "stdout",
     "output_type": "stream",
     "text": [
      "Input data split into vectors of sizes [131072.]\n",
      "Input data split with displacements of [0.]\n"
     ]
    },
    {
     "data": {
      "image/png": "[encoded data removed]",
      "text/plain": [
       "<Figure size 432x288 with 2 Axes>"
      ]
     },
     "metadata": {
      "needs_background": "light"
     },
     "output_type": "display_data"
    },
    {
     "name": "stdout",
     "output_type": "stream",
     "text": [
      "Rank 0, split shape: (256, 512)\n",
      "Rank 0, my shape: (512, 512)\n",
      "Rank 0 with output_chunk shape (256, 512)\n"
     ]
    },
    {
     "data": {
      "image/png": "[encoded data removed]",
      "text/plain": [
       "<Figure size 432x288 with 2 Axes>"
      ]
     },
     "metadata": {
      "needs_background": "light"
     },
     "output_type": "display_data"
    },
    {
     "name": "stdout",
     "output_type": "stream",
     "text": [
      "Output shape (256, 512) for rank 0\n"
     ]
    }
   ],
   "source": [
    "import numpy as np\n",
    "from mpi4py import MPI\n",
    "import matplotlib.pyplot as plt\n",
    "\n",
    "comm = MPI.COMM_WORLD\n",
    "size = comm.Get_size()\n",
    "rank = comm.Get_rank()\n",
    "\n",
    "if rank == 0:\n",
    "    test = np.arange(0,512,dtype='float64')\n",
    "    test = np.tile(test,[256,1]) #Create 2D input array. Numbers 1 to 512 increment across dimension 2.\n",
    "    outputData = np.zeros([256,512]) #Create output array of same size\n",
    "    split = np.array_split(test,size,axis = 0) #Split input array by the number of available cores\n",
    "\n",
    "    split_sizes = []\n",
    "\n",
    "    for i in range(0,len(split),1):\n",
    "        split_sizes = np.append(split_sizes, len(split[i]))\n",
    "\n",
    "    split_sizes_input = split_sizes*512\n",
    "    displacements_input = np.insert(np.cumsum(split_sizes_input),0,0)[0:-1]\n",
    "\n",
    "    split_sizes_output = split_sizes*512\n",
    "    displacements_output = np.insert(np.cumsum(split_sizes_output),0,0)[0:-1]\n",
    "\n",
    "\n",
    "    print(\"Input data split into vectors of sizes %s\" %split_sizes_input)\n",
    "    print(\"Input data split with displacements of %s\" %displacements_input)\n",
    "\n",
    "    plt.imshow(test)\n",
    "    plt.colorbar()\n",
    "    plt.title('Input data')\n",
    "    plt.show()\n",
    "\n",
    "else:\n",
    "#Create variables on other cores\n",
    "    split_sizes_input = None\n",
    "    displacements_input = None\n",
    "    split_sizes_output = None\n",
    "    displacements_output = None\n",
    "    split = None\n",
    "    test = None\n",
    "    outputData = None\n",
    "\n",
    "split = comm.bcast(split, root=0) #Broadcast split array to other cores\n",
    "split_sizes = comm.bcast(split_sizes_input, root = 0)\n",
    "displacements = comm.bcast(displacements_input, root = 0)\n",
    "split_sizes_output = comm.bcast(split_sizes_output, root = 0)\n",
    "displacements_output = comm.bcast(displacements_output, root = 0)\n",
    "\n",
    "print(\"Rank {}, split shape:\".format(rank), np.shape(split[rank]))\n",
    "print(\"Rank {}, my shape:\".format(rank), (int(split_sizes[rank] / 256), 512))\n",
    "\n",
    "#Create array to receive subset of data on each core, where rank specifies the core\n",
    "# output_chunk = np.zeros((int(split_sizes[rank]), 512)) \n",
    "output_chunk = np.zeros(np.shape(split[rank]))\n",
    "print(\"Rank %d with output_chunk shape %s\" %(rank,output_chunk.shape))\n",
    "comm.Scatterv([test,split_sizes_input, displacements_input,MPI.DOUBLE],output_chunk,root=0)\n",
    "\n",
    "output = np.zeros([len(output_chunk),512]) #Create output array on each core\n",
    "\n",
    "for i in range(0,np.shape(output_chunk)[0],1):\n",
    "    output[i,0:512] = output_chunk[i]\n",
    "\n",
    "plt.imshow(output)\n",
    "plt.title(\"Output shape %s for rank %d\" %(output.shape,rank))\n",
    "plt.colorbar()\n",
    "plt.show()\n",
    "\n",
    "print(\"Output shape %s for rank %d\" %(output.shape,rank))"
   ]
  },
  {
   "cell_type": "code",
   "execution_count": null,
   "id": "03f552d0",
   "metadata": {},
   "outputs": [],
   "source": []
  }
 ],
 "metadata": {
  "kernelspec": {
   "display_name": "Python 3 (ipykernel)",
   "language": "python",
   "name": "python3"
  },
  "language_info": {
   "codemirror_mode": {
    "name": "ipython",
    "version": 3
   },
   "file_extension": ".py",
   "mimetype": "text/x-python",
   "name": "python",
   "nbconvert_exporter": "python",
   "pygments_lexer": "ipython3",
   "version": "3.9.5"
  },
  "varInspector": {
   "cols": {
    "lenName": 16,
    "lenType": 16,
    "lenVar": 40
   },
   "kernels_config": {
    "python": {
     "delete_cmd_postfix": "",
     "delete_cmd_prefix": "del ",
     "library": "var_list.py",
     "varRefreshCmd": "print(var_dic_list())"
    },
    "r": {
     "delete_cmd_postfix": ") ",
     "delete_cmd_prefix": "rm(",
     "library": "var_list.r",
     "varRefreshCmd": "cat(var_dic_list()) "
    }
   },
   "types_to_exclude": [
    "module",
    "function",
    "builtin_function_or_method",
    "instance",
    "_Feature"
   ],
   "window_display": false
  }
 },
 "nbformat": 4,
 "nbformat_minor": 5
}
